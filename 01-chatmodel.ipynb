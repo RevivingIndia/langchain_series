{
 "cells": [
  {
   "cell_type": "code",
   "execution_count": 3,
   "id": "8f2cf847-151f-4366-b7de-97589c201d2f",
   "metadata": {},
   "outputs": [],
   "source": [
    "from langchain_groq import ChatGroq"
   ]
  },
  {
   "cell_type": "code",
   "execution_count": 4,
   "id": "9330c16e-a5ec-40f2-8cda-7d3dcb4d346d",
   "metadata": {},
   "outputs": [],
   "source": [
    "llm = ChatGroq(\n",
    "    model = \"llama3-8b-8192\",\n",
    "    temperature = 0,\n",
    "    groq_api_key = \"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\"\n",
    ")"
   ]
  },
  {
   "cell_type": "code",
   "execution_count": 5,
   "id": "20156453-da65-4dab-84b5-693b1eac2044",
   "metadata": {},
   "outputs": [
    {
     "name": "stdout",
     "output_type": "stream",
     "text": [
      "As of my knowledge cutoff, the current Prime Minister of India is Narendra Damodardas Modi. He has been serving as the Prime Minister of India since May 26, 2014, and was re-elected for a second term in 2019.\n",
      "\n",
      "Narendra Modi was born on September 17, 1950, in Vadnagar, Gujarat, India. He is a member of the Bharatiya Janata Party (BJP) and has been a prominent figure in Indian politics for several decades.\n",
      "\n",
      "Before becoming the Prime Minister, Modi served as the Chief Minister of Gujarat from 2001 to 2014. During his tenure as Chief Minister, he implemented several development projects and policies that helped to transform Gujarat into one of the most economically developed states in India.\n",
      "\n",
      "As Prime Minister, Modi has focused on issues such as economic development, infrastructure development, and social welfare. He has also been a strong advocate for issues such as nationalism, Hindu nationalism, and anti-corruption measures.\n",
      "\n",
      "It's worth noting that the Prime Minister of India is the head of government and is responsible for implementing the policies and programs of the government. The Prime Minister is also the ceremonial head of state, but the actual head of state is the President of India.\n",
      "\n",
      "Please note that the information may change as the government and its leaders are subject to change.\n"
     ]
    }
   ],
   "source": [
    "res = llm.invoke(\"who is pm of india\")\n",
    "print(res.content)"
   ]
  }
 ],
 "metadata": {
  "kernelspec": {
   "display_name": "Python 3 (ipykernel)",
   "language": "python",
   "name": "python3"
  },
  "language_info": {
   "codemirror_mode": {
    "name": "ipython",
    "version": 3
   },
   "file_extension": ".py",
   "mimetype": "text/x-python",
   "name": "python",
   "nbconvert_exporter": "python",
   "pygments_lexer": "ipython3",
   "version": "3.12.0"
  }
 },
 "nbformat": 4,
 "nbformat_minor": 5
}
