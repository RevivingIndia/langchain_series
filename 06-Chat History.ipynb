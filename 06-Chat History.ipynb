{
 "cells": [
  {
   "cell_type": "code",
   "execution_count": 2,
   "id": "89aa604a-a84c-4241-83de-9213f147f12c",
   "metadata": {},
   "outputs": [],
   "source": [
    "from langchain_groq import ChatGroq\n",
    "from langchain_core.messages import HumanMessage,SystemMessage,AIMessage"
   ]
  },
  {
   "cell_type": "code",
   "execution_count": 3,
   "id": "d6bd7033-b847-4276-8f7d-8c8499a26760",
   "metadata": {},
   "outputs": [],
   "source": [
    "llm = ChatGroq(\n",
    "    model = \"gemma2-9b-it\",\n",
    "    temperature = 0,\n",
    "    groq_api_key = \"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\"\n",
    ")\n"
   ]
  },
  {
   "cell_type": "code",
   "execution_count": 4,
   "id": "9f9155ca-64bb-41f8-9cbb-cc88fece38de",
   "metadata": {},
   "outputs": [],
   "source": [
    "chat_history=[]"
   ]
  },
  {
   "cell_type": "code",
   "execution_count": 6,
   "id": "22f67bde-62b5-4b0c-8642-a90d5e89b939",
   "metadata": {},
   "outputs": [],
   "source": [
    "system_message = SystemMessage(content = \"You are helpful assistant\")\n",
    "chat_history.append(system_message)"
   ]
  },
  {
   "cell_type": "code",
   "execution_count": null,
   "id": "c3721560-c2af-46dc-9d63-80686acc217e",
   "metadata": {},
   "outputs": [
    {
     "name": "stdin",
     "output_type": "stream",
     "text": [
      "ME: who is the pm of india\n"
     ]
    },
    {
     "name": "stdout",
     "output_type": "stream",
     "text": [
      "BOT: The Prime Minister of India is **Narendra Modi**.  \n",
      "\n",
      "Chat History:: [SystemMessage(content='You are helpful assistant', additional_kwargs={}, response_metadata={}), HumanMessage(content='who is pm of india', additional_kwargs={}, response_metadata={}), HumanMessage(content='who is the pm of india', additional_kwargs={}, response_metadata={}), AIMessage(content='The Prime Minister of India is **Narendra Modi**. \\n', additional_kwargs={}, response_metadata={}), HumanMessage(content='tell me dob ', additional_kwargs={}, response_metadata={}), AIMessage(content=\"As an AI, I don't have a date of birth. I wasn't born in the traditional sense! I was created by the Gemma team at Google DeepMind.\\n\", additional_kwargs={}, response_metadata={}), HumanMessage(content='who is the pm of india', additional_kwargs={}, response_metadata={}), AIMessage(content='The Prime Minister of India is **Narendra Modi**.  \\n', additional_kwargs={}, response_metadata={})]\n"
     ]
    },
    {
     "name": "stdin",
     "output_type": "stream",
     "text": [
      "ME: can you tell be dob\n"
     ]
    },
    {
     "name": "stdout",
     "output_type": "stream",
     "text": [
      "BOT: Narendra Modi's date of birth is **September 17, 1950**. \n",
      "\n",
      "Chat History:: [SystemMessage(content='You are helpful assistant', additional_kwargs={}, response_metadata={}), HumanMessage(content='who is pm of india', additional_kwargs={}, response_metadata={}), HumanMessage(content='who is the pm of india', additional_kwargs={}, response_metadata={}), AIMessage(content='The Prime Minister of India is **Narendra Modi**. \\n', additional_kwargs={}, response_metadata={}), HumanMessage(content='tell me dob ', additional_kwargs={}, response_metadata={}), AIMessage(content=\"As an AI, I don't have a date of birth. I wasn't born in the traditional sense! I was created by the Gemma team at Google DeepMind.\\n\", additional_kwargs={}, response_metadata={}), HumanMessage(content='who is the pm of india', additional_kwargs={}, response_metadata={}), AIMessage(content='The Prime Minister of India is **Narendra Modi**.  \\n', additional_kwargs={}, response_metadata={}), HumanMessage(content='can you tell be dob', additional_kwargs={}, response_metadata={}), AIMessage(content=\"Narendra Modi's date of birth is **September 17, 1950**. \\n\", additional_kwargs={}, response_metadata={})]\n"
     ]
    }
   ],
   "source": [
    "while True:\n",
    "    message = input(\"ME:\")\n",
    "    human_message = HumanMessage(content=message )\n",
    "    chat_history.append(human_message)\n",
    "    res = llm.invoke(chat_history)\n",
    "    print(\"BOT:\",res.content)\n",
    "    ai_message = AIMessage(content= res.content)\n",
    "    chat_history.append(ai_message)\n",
    "    print(\"Chat History::\",chat_history)"
   ]
  },
  {
   "cell_type": "code",
   "execution_count": null,
   "id": "527c5f7e-6478-4cf1-bafa-f6b76c2c73a5",
   "metadata": {},
   "outputs": [],
   "source": []
  },
  {
   "cell_type": "code",
   "execution_count": null,
   "id": "8a39ffe7-50de-49b9-85ae-640b7458e528",
   "metadata": {},
   "outputs": [],
   "source": []
  },
  {
   "cell_type": "code",
   "execution_count": null,
   "id": "3a4a7c3e-42ae-4141-9dfb-09cd50248e0b",
   "metadata": {},
   "outputs": [],
   "source": []
  },
  {
   "cell_type": "code",
   "execution_count": null,
   "id": "a522d087-8ff2-4792-b188-a7965f95980c",
   "metadata": {},
   "outputs": [],
   "source": []
  },
  {
   "cell_type": "code",
   "execution_count": null,
   "id": "4d3c5bda-eeea-4d5c-96be-cb51cd5f3184",
   "metadata": {},
   "outputs": [],
   "source": []
  }
 ],
 "metadata": {
  "kernelspec": {
   "display_name": "Python 3 (ipykernel)",
   "language": "python",
   "name": "python3"
  },
  "language_info": {
   "codemirror_mode": {
    "name": "ipython",
    "version": 3
   },
   "file_extension": ".py",
   "mimetype": "text/x-python",
   "name": "python",
   "nbconvert_exporter": "python",
   "pygments_lexer": "ipython3",
   "version": "3.12.0"
  }
 },
 "nbformat": 4,
 "nbformat_minor": 5
}
