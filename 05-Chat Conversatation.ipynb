{
 "cells": [
  {
   "cell_type": "code",
   "execution_count": 1,
   "id": "51580b6e-1843-4019-8a0e-cd29dc875bd6",
   "metadata": {},
   "outputs": [],
   "source": [
    "from langchain_groq import ChatGroq"
   ]
  },
  {
   "cell_type": "code",
   "execution_count": 2,
   "id": "c14572fc-517a-45a8-ba02-107b86cf5a76",
   "metadata": {},
   "outputs": [],
   "source": [
    "llm = ChatGroq(\n",
    "    model = \"gemma2-9b-it\",\n",
    "    temperature = 0,\n",
    "    groq_api_key = \"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\"\n",
    ")\n"
   ]
  },
  {
   "cell_type": "code",
   "execution_count": null,
   "id": "8965ba7c-4a7b-44aa-b611-0f04ab793995",
   "metadata": {},
   "outputs": [
    {
     "name": "stdin",
     "output_type": "stream",
     "text": [
      "ME: who is pm of india\n"
     ]
    },
    {
     "name": "stdout",
     "output_type": "stream",
     "text": [
      "BOT: The Prime Minister of India is **Narendra Modi**. \n",
      "\n"
     ]
    },
    {
     "name": "stdin",
     "output_type": "stream",
     "text": [
      "ME: where is patna located\n"
     ]
    },
    {
     "name": "stdout",
     "output_type": "stream",
     "text": [
      "BOT: Patna is located in **India**. \n",
      "\n",
      "More specifically, it is the capital city of the state of **Bihar**. \n",
      "\n"
     ]
    }
   ],
   "source": [
    "while True:\n",
    "    message = input(\"ME:\")\n",
    "    res = llm.invoke(message)\n",
    "    print(\"BOT:\",res.content)"
   ]
  },
  {
   "cell_type": "code",
   "execution_count": null,
   "id": "1fc78c67-045d-4961-aeef-0577ea8b43c0",
   "metadata": {},
   "outputs": [],
   "source": []
  }
 ],
 "metadata": {
  "kernelspec": {
   "display_name": "Python 3 (ipykernel)",
   "language": "python",
   "name": "python3"
  },
  "language_info": {
   "codemirror_mode": {
    "name": "ipython",
    "version": 3
   },
   "file_extension": ".py",
   "mimetype": "text/x-python",
   "name": "python",
   "nbconvert_exporter": "python",
   "pygments_lexer": "ipython3",
   "version": "3.12.0"
  }
 },
 "nbformat": 4,
 "nbformat_minor": 5
}
