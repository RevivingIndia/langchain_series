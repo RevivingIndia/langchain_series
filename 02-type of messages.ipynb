{
 "cells": [
  {
   "cell_type": "code",
   "execution_count": 10,
   "id": "3eb2125c-a910-415e-b8a4-7fb522cbf8b6",
   "metadata": {},
   "outputs": [],
   "source": [
    "from langchain_groq import ChatGroq\n",
    "from langchain_core.messages import HumanMessage,SystemMessage"
   ]
  },
  {
   "cell_type": "code",
   "execution_count": 11,
   "id": "4e06e1c8-10dd-42db-b40f-271676470dbd",
   "metadata": {},
   "outputs": [],
   "source": [
    "llm = ChatGroq(\n",
    "    model = \"gemma2-9b-it\",\n",
    "    temperature = 0,\n",
    "    groq_api_key = \"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\"\n",
    ")"
   ]
  },
  {
   "cell_type": "code",
   "execution_count": 12,
   "id": "5be3ed59-5096-4716-b667-42f6515f8fb0",
   "metadata": {},
   "outputs": [
    {
     "name": "stdout",
     "output_type": "stream",
     "text": [
      "Delhi, a city steeped in history and culture, boasts a plethora of attractions that draw millions of visitors each year. \n",
      "\n",
      "Here are some of the **most visited places in Delhi**:\n",
      "\n",
      "**Historical Sites:**\n",
      "\n",
      "* **Red Fort:** This magnificent Mughal fort, a UNESCO World Heritage Site, is a must-see for its stunning architecture, intricate details, and historical significance.\n",
      "* **Qutub Minar:** The tallest brick minaret in the world, Qutub Minar is an impressive example of Indo-Islamic architecture.\n",
      "* **Humayun's Tomb:** This elegant tomb, considered a precursor to the Taj Mahal, is a beautiful example of Mughal architecture.\n",
      "* **Jama Masjid:** One of the largest mosques in India, Jama Masjid is a magnificent structure with towering minarets and a sprawling courtyard.\n",
      "* **India Gate:** This war memorial, dedicated to the Indian soldiers who died in World War I, is a popular spot for tourists and locals alike.\n",
      "\n",
      "**Cultural Sites:**\n",
      "\n",
      "* **Lotus Temple:** This unique temple, shaped like a lotus flower, is a popular destination for its stunning architecture and peaceful atmosphere.\n",
      "* **Akshardham Temple:** This modern Hindu temple complex is a marvel of engineering and artistry, featuring intricate carvings, stunning gardens, and a water show.\n",
      "* **National Museum:** Home to a vast collection of artifacts from ancient India to the present day, the National Museum is a treasure trove of history and culture.\n",
      "* **National Gallery of Modern Art:** This gallery showcases a wide range of modern and contemporary Indian art.\n",
      "\n",
      "**Other Popular Attractions:**\n",
      "\n",
      "* **Chandni Chowk:** This bustling market is a sensory overload, with its narrow lanes, colorful shops, and delicious street food.\n",
      "* **Connaught Place:** This iconic circular shopping district is a hub of activity, with its elegant buildings, upscale shops, and restaurants.\n",
      "* **Hauz Khas Village:** This trendy neighborhood is known for its cafes, boutiques, art galleries, and nightlife.\n",
      "* **Lodhi Garden:** This sprawling park is a peaceful oasis in the heart of the city, with its ancient tombs, lush greenery, and serene atmosphere.\n",
      "\n",
      "**Tips for Visiting:**\n",
      "\n",
      "* **Best time to visit:** October to March is the best time to visit Delhi, as the weather is pleasant.\n",
      "* **Getting around:** Delhi has a good public transportation system, including the metro, buses, and auto-rickshaws.\n",
      "* **Accommodation:** Delhi offers a wide range of accommodation options, from budget-friendly hostels to luxury hotels.\n",
      "* **Food:** Delhi is a foodie's paradise, with its diverse cuisine and street food stalls.\n",
      "\n",
      "\n",
      "\n",
      "\n"
     ]
    }
   ],
   "source": [
    "message = (\n",
    "    SystemMessage(\"You are expert in delhi Places\"),\n",
    "    HumanMessage(\"tell me the places most visited\")\n",
    ")\n",
    "res = llm.invoke(message)\n",
    "print(res.content)"
   ]
  },
  {
   "cell_type": "code",
   "execution_count": null,
   "id": "e95d6d4d-22f0-4f0c-829b-1e2fafb53242",
   "metadata": {},
   "outputs": [],
   "source": []
  },
  {
   "cell_type": "code",
   "execution_count": null,
   "id": "e00cd2d5-9fb9-4021-bf43-70327218137d",
   "metadata": {},
   "outputs": [],
   "source": []
  }
 ],
 "metadata": {
  "kernelspec": {
   "display_name": "Python 3 (ipykernel)",
   "language": "python",
   "name": "python3"
  },
  "language_info": {
   "codemirror_mode": {
    "name": "ipython",
    "version": 3
   },
   "file_extension": ".py",
   "mimetype": "text/x-python",
   "name": "python",
   "nbconvert_exporter": "python",
   "pygments_lexer": "ipython3",
   "version": "3.12.0"
  }
 },
 "nbformat": 4,
 "nbformat_minor": 5
}
